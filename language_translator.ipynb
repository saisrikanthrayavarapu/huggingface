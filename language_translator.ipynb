{
  "nbformat": 4,
  "nbformat_minor": 0,
  "metadata": {
    "colab": {
      "name": "language translator.ipynb",
      "provenance": [],
      "authorship_tag": "ABX9TyPu9OZMazc1xvR3xgb0ogS0",
      "include_colab_link": true
    },
    "kernelspec": {
      "name": "python3",
      "display_name": "Python 3"
    },
    "language_info": {
      "name": "python"
    }
  },
  "cells": [
    {
      "cell_type": "markdown",
      "metadata": {
        "id": "view-in-github",
        "colab_type": "text"
      },
      "source": [
        "<a href=\"https://colab.research.google.com/github/saisrikanthrayavarapu/huggingface/blob/master/language_translator.ipynb\" target=\"_parent\"><img src=\"https://colab.research.google.com/assets/colab-badge.svg\" alt=\"Open In Colab\"/></a>"
      ]
    },
    {
      "cell_type": "code",
      "execution_count": 1,
      "metadata": {
        "id": "XQfGc052RfAa"
      },
      "outputs": [],
      "source": [
        "# !pip install -q dl-translate"
      ]
    },
    {
      "cell_type": "code",
      "source": [
        "# !pip install git+https://github.com/huggingface/transformers -q\n",
        "!pip install sentencepiece"
      ],
      "metadata": {
        "colab": {
          "base_uri": "https://localhost:8080/",
          "height": 0
        },
        "id": "XiUddzY5vgnz",
        "outputId": "1c77167b-a7ef-4af1-afbc-99bcbed93642"
      },
      "execution_count": 2,
      "outputs": [
        {
          "output_type": "stream",
          "name": "stdout",
          "text": [
            "Looking in indexes: https://pypi.org/simple, https://us-python.pkg.dev/colab-wheels/public/simple/\n",
            "Requirement already satisfied: sentencepiece in /usr/local/lib/python3.7/dist-packages (0.1.96)\n"
          ]
        }
      ]
    },
    {
      "cell_type": "code",
      "source": [
        "!pip install googletrans==3.1.0a0 -q"
      ],
      "metadata": {
        "id": "kQ-2ZE3d3jTu"
      },
      "execution_count": 3,
      "outputs": []
    },
    {
      "cell_type": "markdown",
      "source": [
        "*This is the stable version that translates to more than 40 languages*"
      ],
      "metadata": {
        "id": "Np--ioe72Fg1"
      }
    },
    {
      "cell_type": "code",
      "source": [
        "#  Flask dependencies\n",
        "!pip install flask -q\n",
        "!pip install flask-ngrok -q"
      ],
      "metadata": {
        "id": "Kf5-gbdSRoBV"
      },
      "execution_count": 4,
      "outputs": []
    },
    {
      "cell_type": "code",
      "source": [
        "from flask import Flask, jsonify, request\n",
        "from flask_ngrok import run_with_ngrok\n",
        "app = Flask(__name__)\n",
        "run_with_ngrok(app)"
      ],
      "metadata": {
        "id": "UITZA9UpWCL5"
      },
      "execution_count": 5,
      "outputs": []
    },
    {
      "cell_type": "code",
      "source": [
        "# languages API to GET list of languages available\n",
        "import googletrans\n",
        "@app.route('/languages', methods=['GET'])\n",
        "def get_languages():\n",
        "  return jsonify(googletrans.LANGUAGES)"
      ],
      "metadata": {
        "id": "1JRnKyyEz5rC"
      },
      "execution_count": 6,
      "outputs": []
    },
    {
      "cell_type": "markdown",
      "source": [
        "#### data to be passed as input\n",
        "\n",
        "data = {\n",
        "    'text': '**INPUT TEXT**',\n",
        "    'output language': '**LANGUAGE KEY FROM LANGUAGES API**'\n",
        "}"
      ],
      "metadata": {
        "id": "zgPuhAvL3Qgv"
      }
    },
    {
      "cell_type": "code",
      "source": [
        "data = {\n",
        "    'text': 'Welcome to Wellmed Directory.',\n",
        "    'output language': 'es'\n",
        "}"
      ],
      "metadata": {
        "id": "5aDJB_KhBsq7"
      },
      "execution_count": 7,
      "outputs": []
    },
    {
      "cell_type": "code",
      "source": [
        "# verify the data input using GET input\n",
        "@app.route('/input', methods=['GET'])\n",
        "def input():\n",
        "  return jsonify(data)"
      ],
      "metadata": {
        "id": "yt__khjPsp81"
      },
      "execution_count": 8,
      "outputs": []
    },
    {
      "cell_type": "code",
      "source": [
        "# POST and GET th translated output using translate API\n",
        "from googletrans import Translator\n",
        "\n",
        "@app.route('/translate', methods=['GET', 'POST'])\n",
        "def auto_translate():\n",
        "  \n",
        "  translator = Translator()\n",
        "  translated_text = translator.translate(data.get('text'), dest=data.get('output language')).text\n",
        "  data['translated text'] = translated_text\n",
        "  return jsonify(data)"
      ],
      "metadata": {
        "id": "853MKWu332BU"
      },
      "execution_count": 9,
      "outputs": []
    },
    {
      "cell_type": "code",
      "source": [
        "# run the app and check the output from respective APIs\n",
        "app.run()"
      ],
      "metadata": {
        "colab": {
          "base_uri": "https://localhost:8080/",
          "height": 0
        },
        "id": "rRrWPTvZYPLI",
        "outputId": "21154f56-a5cd-43c4-a4e6-7328d95bcb27"
      },
      "execution_count": 11,
      "outputs": [
        {
          "output_type": "stream",
          "name": "stdout",
          "text": [
            " * Serving Flask app \"__main__\" (lazy loading)\n",
            " * Environment: production\n",
            "\u001b[31m   WARNING: This is a development server. Do not use it in a production deployment.\u001b[0m\n",
            "\u001b[2m   Use a production WSGI server instead.\u001b[0m\n",
            " * Debug mode: off\n"
          ]
        },
        {
          "output_type": "stream",
          "name": "stderr",
          "text": [
            " * Running on http://127.0.0.1:5000/ (Press CTRL+C to quit)\n"
          ]
        },
        {
          "output_type": "stream",
          "name": "stdout",
          "text": [
            " * Running on http://6eab-35-236-176-147.ngrok.io\n",
            " * Traffic stats available on http://127.0.0.1:4040\n"
          ]
        },
        {
          "output_type": "stream",
          "name": "stderr",
          "text": [
            "127.0.0.1 - - [17/Jul/2022 20:20:52] \"\u001b[33mGET / HTTP/1.1\u001b[0m\" 404 -\n",
            "127.0.0.1 - - [17/Jul/2022 20:21:03] \"\u001b[37mGET /languages HTTP/1.1\u001b[0m\" 200 -\n",
            "127.0.0.1 - - [17/Jul/2022 20:21:24] \"\u001b[37mGET /translate HTTP/1.1\u001b[0m\" 200 -\n",
            "127.0.0.1 - - [17/Jul/2022 20:21:25] \"\u001b[33mGET /favicon.ico HTTP/1.1\u001b[0m\" 404 -\n",
            "127.0.0.1 - - [17/Jul/2022 20:21:26] \"\u001b[37mGET /translate HTTP/1.1\u001b[0m\" 200 -\n",
            "127.0.0.1 - - [17/Jul/2022 20:21:41] \"\u001b[37mGET /translate HTTP/1.1\u001b[0m\" 200 -\n",
            "127.0.0.1 - - [17/Jul/2022 20:21:41] \"\u001b[33mGET /favicon.ico HTTP/1.1\u001b[0m\" 404 -\n",
            "127.0.0.1 - - [17/Jul/2022 20:22:39] \"\u001b[37mGET /input HTTP/1.1\u001b[0m\" 200 -\n",
            "127.0.0.1 - - [17/Jul/2022 20:22:40] \"\u001b[33mGET /favicon.ico HTTP/1.1\u001b[0m\" 404 -\n",
            "127.0.0.1 - - [17/Jul/2022 20:22:42] \"\u001b[37mGET /input HTTP/1.1\u001b[0m\" 200 -\n",
            "127.0.0.1 - - [17/Jul/2022 20:22:44] \"\u001b[37mGET /input HTTP/1.1\u001b[0m\" 200 -\n",
            "127.0.0.1 - - [17/Jul/2022 20:22:45] \"\u001b[33mGET /favicon.ico HTTP/1.1\u001b[0m\" 404 -\n",
            "127.0.0.1 - - [17/Jul/2022 20:23:18] \"\u001b[37mGET /languages HTTP/1.1\u001b[0m\" 200 -\n",
            "127.0.0.1 - - [17/Jul/2022 20:23:56] \"\u001b[37mGET /input HTTP/1.1\u001b[0m\" 200 -\n",
            "127.0.0.1 - - [17/Jul/2022 20:23:57] \"\u001b[33mGET /favicon.ico HTTP/1.1\u001b[0m\" 404 -\n"
          ]
        }
      ]
    }
  ]
}